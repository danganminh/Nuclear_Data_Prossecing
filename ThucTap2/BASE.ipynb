{
 "cells": [
  {
   "cell_type": "code",
   "execution_count": 2,
   "id": "b34d846d",
   "metadata": {},
   "outputs": [],
   "source": [
    "import numpy as np\n",
    "import pandas as pd\n",
    "import matplotlib.pyplot as plt\n",
    "import os"
   ]
  },
  {
   "cell_type": "code",
   "execution_count": 3,
   "id": "0b23df7b",
   "metadata": {},
   "outputs": [
    {
     "data": {
      "text/plain": [
       "'C:\\\\Users\\\\minec\\\\Desktop\\\\TT2\\\\20kth'"
      ]
     },
     "execution_count": 3,
     "metadata": {},
     "output_type": "execute_result"
    }
   ],
   "source": [
    "os.getcwd()"
   ]
  },
  {
   "cell_type": "markdown",
   "id": "4334ab82",
   "metadata": {},
   "source": [
    "# Ba-133"
   ]
  },
  {
   "cell_type": "code",
   "execution_count": 4,
   "id": "8a536bfa",
   "metadata": {},
   "outputs": [],
   "source": [
    "ba_133 = pd.read_excel('Ba-133.xlsx')"
   ]
  },
  {
   "cell_type": "code",
   "execution_count": 5,
   "id": "cd10f4fe",
   "metadata": {},
   "outputs": [
    {
     "data": {
      "text/html": [
       "<div>\n",
       "<style scoped>\n",
       "    .dataframe tbody tr th:only-of-type {\n",
       "        vertical-align: middle;\n",
       "    }\n",
       "\n",
       "    .dataframe tbody tr th {\n",
       "        vertical-align: top;\n",
       "    }\n",
       "\n",
       "    .dataframe thead th {\n",
       "        text-align: right;\n",
       "    }\n",
       "</style>\n",
       "<table border=\"1\" class=\"dataframe\">\n",
       "  <thead>\n",
       "    <tr style=\"text-align: right;\">\n",
       "      <th></th>\n",
       "      <th>Ba-133</th>\n",
       "    </tr>\n",
       "  </thead>\n",
       "  <tbody>\n",
       "    <tr>\n",
       "      <th>0</th>\n",
       "      <td>0</td>\n",
       "    </tr>\n",
       "    <tr>\n",
       "      <th>1</th>\n",
       "      <td>0</td>\n",
       "    </tr>\n",
       "    <tr>\n",
       "      <th>2</th>\n",
       "      <td>0</td>\n",
       "    </tr>\n",
       "    <tr>\n",
       "      <th>3</th>\n",
       "      <td>0</td>\n",
       "    </tr>\n",
       "    <tr>\n",
       "      <th>4</th>\n",
       "      <td>0</td>\n",
       "    </tr>\n",
       "    <tr>\n",
       "      <th>...</th>\n",
       "      <td>...</td>\n",
       "    </tr>\n",
       "    <tr>\n",
       "      <th>2043</th>\n",
       "      <td>0</td>\n",
       "    </tr>\n",
       "    <tr>\n",
       "      <th>2044</th>\n",
       "      <td>0</td>\n",
       "    </tr>\n",
       "    <tr>\n",
       "      <th>2045</th>\n",
       "      <td>0</td>\n",
       "    </tr>\n",
       "    <tr>\n",
       "      <th>2046</th>\n",
       "      <td>0</td>\n",
       "    </tr>\n",
       "    <tr>\n",
       "      <th>2047</th>\n",
       "      <td>0</td>\n",
       "    </tr>\n",
       "  </tbody>\n",
       "</table>\n",
       "<p>2048 rows × 1 columns</p>\n",
       "</div>"
      ],
      "text/plain": [
       "      Ba-133\n",
       "0          0\n",
       "1          0\n",
       "2          0\n",
       "3          0\n",
       "4          0\n",
       "...      ...\n",
       "2043       0\n",
       "2044       0\n",
       "2045       0\n",
       "2046       0\n",
       "2047       0\n",
       "\n",
       "[2048 rows x 1 columns]"
      ]
     },
     "metadata": {},
     "output_type": "display_data"
    }
   ],
   "source": [
    "display(ba_133)"
   ]
  },
  {
   "cell_type": "code",
   "execution_count": 6,
   "id": "afff99e3",
   "metadata": {},
   "outputs": [],
   "source": [
    "y_ba = ba_133['Ba-133'][0:]\n",
    "x_ba = np.linspace(1, len(y_ba), len(y_ba))"
   ]
  },
  {
   "cell_type": "code",
   "execution_count": 7,
   "id": "6c074071",
   "metadata": {},
   "outputs": [
    {
     "data": {
      "text/plain": [
       "Text(0.5, 1.0, 'Ba-133')"
      ]
     },
     "execution_count": 7,
     "metadata": {},
     "output_type": "execute_result"
    },
    {
     "data": {
      "image/png": "[encoded data removed]",
      "text/plain": [
       "<Figure size 640x480 with 1 Axes>"
      ]
     },
     "metadata": {},
     "output_type": "display_data"
    }
   ],
   "source": [
    "plt.plot(x_ba, y_ba, linewidth=0.5, color='red')\n",
    "plt.xlim([0, 500])\n",
    "plt.title('Ba-133')"
   ]
  },
  {
   "cell_type": "code",
   "execution_count": 8,
   "id": "300ff0c8",
   "metadata": {},
   "outputs": [
    {
     "name": "stdout",
     "output_type": "stream",
     "text": [
      "peak 1 is 31707\n",
      "peak 2 is 6246\n",
      "30 is index of count 31707\n",
      "287 is index of count 6246\n"
     ]
    }
   ],
   "source": [
    "# two peak energy\n",
    "peak1_ba = max(y_ba[0:100]) # peak 1\n",
    "peak2_ba = max(y_ba[200:400])  # peak 2\n",
    "\n",
    "print('peak 1 is ' + str(peak1_ba)) \n",
    "print('peak 2 is ' + str(peak2_ba))\n",
    "\n",
    "# show index == channel\n",
    "def index_peak1(y_ba):\n",
    "    for i in range(100):\n",
    "        if y_ba[i] == max(y_ba[0:100]):\n",
    "            return i\n",
    "def index_peak2(y_ba):\n",
    "    for i in range(200, 400):\n",
    "        if y_ba[i] == max(y_ba[200:400]):\n",
    "            return i\n",
    "\n",
    "print(str(index_peak1(y_ba)) + ' is index of count ' + str(peak1_ba))\n",
    "print(str(index_peak2(y_ba)) + ' is index of count ' + str(peak2_ba))"
   ]
  },
  {
   "cell_type": "markdown",
   "id": "f0d6c85b",
   "metadata": {},
   "source": [
    "# Cobalt-60"
   ]
  },
  {
   "cell_type": "code",
   "execution_count": 9,
   "id": "5c5c4d4f",
   "metadata": {},
   "outputs": [
    {
     "data": {
      "text/html": [
       "<div>\n",
       "<style scoped>\n",
       "    .dataframe tbody tr th:only-of-type {\n",
       "        vertical-align: middle;\n",
       "    }\n",
       "\n",
       "    .dataframe tbody tr th {\n",
       "        vertical-align: top;\n",
       "    }\n",
       "\n",
       "    .dataframe thead th {\n",
       "        text-align: right;\n",
       "    }\n",
       "</style>\n",
       "<table border=\"1\" class=\"dataframe\">\n",
       "  <thead>\n",
       "    <tr style=\"text-align: right;\">\n",
       "      <th></th>\n",
       "      <th>cobalt-60</th>\n",
       "    </tr>\n",
       "  </thead>\n",
       "  <tbody>\n",
       "    <tr>\n",
       "      <th>0</th>\n",
       "      <td>0</td>\n",
       "    </tr>\n",
       "    <tr>\n",
       "      <th>1</th>\n",
       "      <td>0</td>\n",
       "    </tr>\n",
       "    <tr>\n",
       "      <th>2</th>\n",
       "      <td>5</td>\n",
       "    </tr>\n",
       "    <tr>\n",
       "      <th>3</th>\n",
       "      <td>4</td>\n",
       "    </tr>\n",
       "    <tr>\n",
       "      <th>4</th>\n",
       "      <td>0</td>\n",
       "    </tr>\n",
       "    <tr>\n",
       "      <th>...</th>\n",
       "      <td>...</td>\n",
       "    </tr>\n",
       "    <tr>\n",
       "      <th>2043</th>\n",
       "      <td>0</td>\n",
       "    </tr>\n",
       "    <tr>\n",
       "      <th>2044</th>\n",
       "      <td>0</td>\n",
       "    </tr>\n",
       "    <tr>\n",
       "      <th>2045</th>\n",
       "      <td>0</td>\n",
       "    </tr>\n",
       "    <tr>\n",
       "      <th>2046</th>\n",
       "      <td>0</td>\n",
       "    </tr>\n",
       "    <tr>\n",
       "      <th>2047</th>\n",
       "      <td>0</td>\n",
       "    </tr>\n",
       "  </tbody>\n",
       "</table>\n",
       "<p>2048 rows × 1 columns</p>\n",
       "</div>"
      ],
      "text/plain": [
       "      cobalt-60\n",
       "0             0\n",
       "1             0\n",
       "2             5\n",
       "3             4\n",
       "4             0\n",
       "...         ...\n",
       "2043          0\n",
       "2044          0\n",
       "2045          0\n",
       "2046          0\n",
       "2047          0\n",
       "\n",
       "[2048 rows x 1 columns]"
      ]
     },
     "metadata": {},
     "output_type": "display_data"
    }
   ],
   "source": [
    "cobalt_60 = pd.read_excel(\"cobalt-60.xlsx\")\n",
    "display(cobalt_60)"
   ]
  },
  {
   "cell_type": "code",
   "execution_count": 10,
   "id": "3a7317e7",
   "metadata": {},
   "outputs": [],
   "source": [
    "y_cb = cobalt_60['cobalt-60'][0:]\n",
    "x_cb = np.linspace(1, len(y_cb), len(y_cb))"
   ]
  },
  {
   "cell_type": "code",
   "execution_count": 11,
   "id": "1a0dce9d",
   "metadata": {},
   "outputs": [
    {
     "data": {
      "text/plain": [
       "Text(0.5, 1.0, 'Cobalt-60')"
      ]
     },
     "execution_count": 11,
     "metadata": {},
     "output_type": "execute_result"
    },
    {
     "data": {
      "image/png": "[encoded data removed]",
      "text/plain": [
       "<Figure size 640x480 with 1 Axes>"
      ]
     },
     "metadata": {},
     "output_type": "display_data"
    }
   ],
   "source": [
    "plt.plot(x_cb, y_cb, linewidth=0.5, color='blue')\n",
    "plt.xlim([0, 1100])\n",
    "plt.title('Cobalt-60')"
   ]
  },
  {
   "cell_type": "code",
   "execution_count": 12,
   "id": "a6a3d0bd",
   "metadata": {},
   "outputs": [
    {
     "name": "stdout",
     "output_type": "stream",
     "text": [
      "peak 1 is 406\n",
      "peak 2 is 813\n",
      "613 is index of count 406\n",
      "964 is index of count 813\n"
     ]
    }
   ],
   "source": [
    "# two peak energy\n",
    "peak1_cb = max(y_cb[450:700]) # peak 1\n",
    "peak2_cb = max(y_cb[900:1000])  # peak 2\n",
    "\n",
    "print('peak 1 is ' + str(peak1_cb)) \n",
    "print('peak 2 is ' + str(peak2_cb))\n",
    "\n",
    "# show index == channel\n",
    "def index_peak1(y_cb):\n",
    "    for i in range(450, 700):\n",
    "        if y_cb[i] == max(y_cb[450:700]):\n",
    "            return i\n",
    "def index_peak2(y_cb):\n",
    "    for i in range(900, 1000):\n",
    "        if y_cb[i] == max(y_cb[900:1000]):\n",
    "            return i\n",
    "\n",
    "print(str(index_peak1(y_cb)) + ' is index of count ' + str(peak1_cb))\n",
    "print(str(index_peak2(y_cb)) + ' is index of count ' + str(peak2_cb))"
   ]
  },
  {
   "cell_type": "markdown",
   "id": "5c582d5b",
   "metadata": {},
   "source": [
    "# Eu-152"
   ]
  },
  {
   "cell_type": "code",
   "execution_count": 107,
   "id": "8c427d50",
   "metadata": {},
   "outputs": [
    {
     "data": {
      "text/html": [
       "<div>\n",
       "<style scoped>\n",
       "    .dataframe tbody tr th:only-of-type {\n",
       "        vertical-align: middle;\n",
       "    }\n",
       "\n",
       "    .dataframe tbody tr th {\n",
       "        vertical-align: top;\n",
       "    }\n",
       "\n",
       "    .dataframe thead th {\n",
       "        text-align: right;\n",
       "    }\n",
       "</style>\n",
       "<table border=\"1\" class=\"dataframe\">\n",
       "  <thead>\n",
       "    <tr style=\"text-align: right;\">\n",
       "      <th></th>\n",
       "      <th>Eu-152</th>\n",
       "    </tr>\n",
       "  </thead>\n",
       "  <tbody>\n",
       "    <tr>\n",
       "      <th>0</th>\n",
       "      <td>0</td>\n",
       "    </tr>\n",
       "    <tr>\n",
       "      <th>1</th>\n",
       "      <td>0</td>\n",
       "    </tr>\n",
       "    <tr>\n",
       "      <th>2</th>\n",
       "      <td>0</td>\n",
       "    </tr>\n",
       "    <tr>\n",
       "      <th>3</th>\n",
       "      <td>0</td>\n",
       "    </tr>\n",
       "    <tr>\n",
       "      <th>4</th>\n",
       "      <td>0</td>\n",
       "    </tr>\n",
       "    <tr>\n",
       "      <th>...</th>\n",
       "      <td>...</td>\n",
       "    </tr>\n",
       "    <tr>\n",
       "      <th>2043</th>\n",
       "      <td>0</td>\n",
       "    </tr>\n",
       "    <tr>\n",
       "      <th>2044</th>\n",
       "      <td>0</td>\n",
       "    </tr>\n",
       "    <tr>\n",
       "      <th>2045</th>\n",
       "      <td>0</td>\n",
       "    </tr>\n",
       "    <tr>\n",
       "      <th>2046</th>\n",
       "      <td>0</td>\n",
       "    </tr>\n",
       "    <tr>\n",
       "      <th>2047</th>\n",
       "      <td>0</td>\n",
       "    </tr>\n",
       "  </tbody>\n",
       "</table>\n",
       "<p>2048 rows × 1 columns</p>\n",
       "</div>"
      ],
      "text/plain": [
       "      Eu-152\n",
       "0          0\n",
       "1          0\n",
       "2          0\n",
       "3          0\n",
       "4          0\n",
       "...      ...\n",
       "2043       0\n",
       "2044       0\n",
       "2045       0\n",
       "2046       0\n",
       "2047       0\n",
       "\n",
       "[2048 rows x 1 columns]"
      ]
     },
     "metadata": {},
     "output_type": "display_data"
    }
   ],
   "source": [
    "eu_152 = pd.read_excel('Eu-152.xlsx')\n",
    "display(eu_152)"
   ]
  },
  {
   "cell_type": "code",
   "execution_count": 108,
   "id": "f0434e0a",
   "metadata": {},
   "outputs": [],
   "source": [
    "y_eu = eu_152['Eu-152'][0:]\n",
    "x_eu = np.linspace(1, len(y_eu), len(y_eu))"
   ]
  },
  {
   "cell_type": "code",
   "execution_count": 115,
   "id": "20651fba",
   "metadata": {},
   "outputs": [
    {
     "data": {
      "text/plain": [
       "Text(0.5, 1.0, 'Eu-152')"
      ]
     },
     "execution_count": 115,
     "metadata": {},
     "output_type": "execute_result"
    },
    {
     "data": {
      "image/png": "[encoded data removed]",
      "text/plain": [
       "<Figure size 640x480 with 1 Axes>"
      ]
     },
     "metadata": {},
     "output_type": "display_data"
    }
   ],
   "source": [
    "plt.plot(x_eu, y_eu, linewidth=0.5, color='green')\n",
    "plt.xlim([0, 400])\n",
    "plt.title('Eu-152')"
   ]
  },
  {
   "cell_type": "code",
   "execution_count": 119,
   "id": "40efc0e1",
   "metadata": {},
   "outputs": [
    {
     "name": "stdout",
     "output_type": "stream",
     "text": [
      "peak 1 is 24997\n",
      "peak 2 is 9814\n",
      "93 is index of count 24997\n",
      "257 is index of count 9814\n"
     ]
    }
   ],
   "source": [
    "# two peak energy\n",
    "peak1_eu = max(y_eu[60:150]) # peak 1\n",
    "peak2_eu = max(y_eu[200:300])  # peak 2\n",
    "\n",
    "print('peak 1 is ' + str(peak1_eu)) \n",
    "print('peak 2 is ' + str(peak2_eu))\n",
    "\n",
    "# show index == channel\n",
    "def index_peak1(y_eu):\n",
    "    for i in range(60, 150):\n",
    "        if y_eu[i] == max(y_eu[60:150]):\n",
    "            return i\n",
    "def index_peak2(y_eu):\n",
    "    for i in range(200, 300):\n",
    "        if y_eu[i] == max(y_eu[200:300]):\n",
    "            return i\n",
    "\n",
    "print(str(index_peak1(y_eu)) + ' is index of count ' + str(peak1_eu))\n",
    "print(str(index_peak2(y_eu)) + ' is index of count ' + str(peak2_eu))"
   ]
  },
  {
   "cell_type": "markdown",
   "id": "817e15ad",
   "metadata": {},
   "source": [
    "# Back-ground"
   ]
  },
  {
   "cell_type": "code",
   "execution_count": 120,
   "id": "36eb04aa",
   "metadata": {},
   "outputs": [
    {
     "data": {
      "text/html": [
       "<div>\n",
       "<style scoped>\n",
       "    .dataframe tbody tr th:only-of-type {\n",
       "        vertical-align: middle;\n",
       "    }\n",
       "\n",
       "    .dataframe tbody tr th {\n",
       "        vertical-align: top;\n",
       "    }\n",
       "\n",
       "    .dataframe thead th {\n",
       "        text-align: right;\n",
       "    }\n",
       "</style>\n",
       "<table border=\"1\" class=\"dataframe\">\n",
       "  <thead>\n",
       "    <tr style=\"text-align: right;\">\n",
       "      <th></th>\n",
       "      <th>Back ground</th>\n",
       "    </tr>\n",
       "  </thead>\n",
       "  <tbody>\n",
       "    <tr>\n",
       "      <th>0</th>\n",
       "      <td>0</td>\n",
       "    </tr>\n",
       "    <tr>\n",
       "      <th>1</th>\n",
       "      <td>0</td>\n",
       "    </tr>\n",
       "    <tr>\n",
       "      <th>2</th>\n",
       "      <td>0</td>\n",
       "    </tr>\n",
       "    <tr>\n",
       "      <th>3</th>\n",
       "      <td>0</td>\n",
       "    </tr>\n",
       "    <tr>\n",
       "      <th>4</th>\n",
       "      <td>0</td>\n",
       "    </tr>\n",
       "    <tr>\n",
       "      <th>...</th>\n",
       "      <td>...</td>\n",
       "    </tr>\n",
       "    <tr>\n",
       "      <th>2043</th>\n",
       "      <td>0</td>\n",
       "    </tr>\n",
       "    <tr>\n",
       "      <th>2044</th>\n",
       "      <td>0</td>\n",
       "    </tr>\n",
       "    <tr>\n",
       "      <th>2045</th>\n",
       "      <td>0</td>\n",
       "    </tr>\n",
       "    <tr>\n",
       "      <th>2046</th>\n",
       "      <td>0</td>\n",
       "    </tr>\n",
       "    <tr>\n",
       "      <th>2047</th>\n",
       "      <td>0</td>\n",
       "    </tr>\n",
       "  </tbody>\n",
       "</table>\n",
       "<p>2048 rows × 1 columns</p>\n",
       "</div>"
      ],
      "text/plain": [
       "      Back ground\n",
       "0               0\n",
       "1               0\n",
       "2               0\n",
       "3               0\n",
       "4               0\n",
       "...           ...\n",
       "2043            0\n",
       "2044            0\n",
       "2045            0\n",
       "2046            0\n",
       "2047            0\n",
       "\n",
       "[2048 rows x 1 columns]"
      ]
     },
     "metadata": {},
     "output_type": "display_data"
    }
   ],
   "source": [
    "bg = pd.read_excel('back_ground.xlsx')\n",
    "display(bg)"
   ]
  },
  {
   "cell_type": "code",
   "execution_count": 121,
   "id": "daf57fc9",
   "metadata": {},
   "outputs": [],
   "source": [
    "y_bg = bg[\"Back ground\"][0:]\n",
    "x_bg = np.linspace(1, len(y_bg), len(y_bg))"
   ]
  },
  {
   "cell_type": "code",
   "execution_count": 126,
   "id": "1f13b564",
   "metadata": {},
   "outputs": [
    {
     "data": {
      "text/plain": [
       "Text(0.5, 1.0, 'Back-ground')"
      ]
     },
     "execution_count": 126,
     "metadata": {},
     "output_type": "execute_result"
    },
    {
     "data": {
      "image/png": "[encoded data removed]",
      "text/plain": [
       "<Figure size 640x480 with 1 Axes>"
      ]
     },
     "metadata": {},
     "output_type": "display_data"
    }
   ],
   "source": [
    "plt.plot(x_bg, y_bg, linewidth=0.5, color='yellow')\n",
    "plt.xlim([0, 1300])\n",
    "plt.title('Back-ground')"
   ]
  },
  {
   "cell_type": "code",
   "execution_count": 128,
   "id": "85719bf9",
   "metadata": {},
   "outputs": [
    {
     "name": "stdout",
     "output_type": "stream",
     "text": [
      "peak 1 is 966\n",
      "peak 2 is 43\n",
      "73 is index of count 966\n",
      "1129 is index of count 43\n"
     ]
    }
   ],
   "source": [
    "# two peak energy\n",
    "peak1_bg = max(y_bg[0:200]) # peak 1\n",
    "peak2_bg = max(y_bg[1000:1200])  # peak 2\n",
    "\n",
    "print('peak 1 is ' + str(peak1_bg)) \n",
    "print('peak 2 is ' + str(peak2_bg))\n",
    "\n",
    "# show index == channel\n",
    "def index_peak1(y_bg):\n",
    "    for i in range(0, 200):\n",
    "        if y_bg[i] == max(y_bg[0:200]):\n",
    "            return i\n",
    "def index_peak2(y_bg):\n",
    "    for i in range(1000, 1200):\n",
    "        if y_bg[i] == max(y_bg[1000:1200]):\n",
    "            return i\n",
    "\n",
    "print(str(index_peak1(y_bg)) + ' is index of count ' + str(peak1_bg))\n",
    "print(str(index_peak2(y_bg)) + ' is index of count ' + str(peak2_bg))"
   ]
  },
  {
   "cell_type": "code",
   "execution_count": null,
   "id": "9cd1b999",
   "metadata": {},
   "outputs": [],
   "source": []
  }
 ],
 "metadata": {
  "kernelspec": {
   "display_name": "Python 3 (ipykernel)",
   "language": "python",
   "name": "python3"
  },
  "language_info": {
   "codemirror_mode": {
    "name": "ipython",
    "version": 3
   },
   "file_extension": ".py",
   "mimetype": "text/x-python",
   "name": "python",
   "nbconvert_exporter": "python",
   "pygments_lexer": "ipython3",
   "version": "3.9.13"
  }
 },
 "nbformat": 4,
 "nbformat_minor": 5
}
