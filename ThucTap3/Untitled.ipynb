{
 "cells": [
  {
   "cell_type": "code",
   "execution_count": 23,
   "id": "bc6b6e66",
   "metadata": {},
   "outputs": [],
   "source": [
    "import matplotlib.pyplot as plt\n",
    "import numpy as np\n",
    "import pandas as pd\n",
    "import os"
   ]
  },
  {
   "cell_type": "code",
   "execution_count": 24,
   "id": "d1c50859",
   "metadata": {},
   "outputs": [
    {
     "data": {
      "text/html": [
       "<div>\n",
       "<style scoped>\n",
       "    .dataframe tbody tr th:only-of-type {\n",
       "        vertical-align: middle;\n",
       "    }\n",
       "\n",
       "    .dataframe tbody tr th {\n",
       "        vertical-align: top;\n",
       "    }\n",
       "\n",
       "    .dataframe thead th {\n",
       "        text-align: right;\n",
       "    }\n",
       "</style>\n",
       "<table border=\"1\" class=\"dataframe\">\n",
       "  <thead>\n",
       "    <tr style=\"text-align: right;\">\n",
       "      <th></th>\n",
       "      <th>Np</th>\n",
       "      <th>N Ra-226(9uCi)</th>\n",
       "      <th>N Ra-226 (5uCi)</th>\n",
       "    </tr>\n",
       "  </thead>\n",
       "  <tbody>\n",
       "    <tr>\n",
       "      <th>0</th>\n",
       "      <td>45</td>\n",
       "      <td>77601</td>\n",
       "      <td>12361.0</td>\n",
       "    </tr>\n",
       "    <tr>\n",
       "      <th>1</th>\n",
       "      <td>47</td>\n",
       "      <td>74171</td>\n",
       "      <td>12361.0</td>\n",
       "    </tr>\n",
       "    <tr>\n",
       "      <th>2</th>\n",
       "      <td>37</td>\n",
       "      <td>73842</td>\n",
       "      <td>12518.0</td>\n",
       "    </tr>\n",
       "    <tr>\n",
       "      <th>3</th>\n",
       "      <td>47</td>\n",
       "      <td>78747</td>\n",
       "      <td>12408.0</td>\n",
       "    </tr>\n",
       "    <tr>\n",
       "      <th>4</th>\n",
       "      <td>30</td>\n",
       "      <td>77936</td>\n",
       "      <td>12537.0</td>\n",
       "    </tr>\n",
       "    <tr>\n",
       "      <th>5</th>\n",
       "      <td>27</td>\n",
       "      <td>79565</td>\n",
       "      <td>12561.0</td>\n",
       "    </tr>\n",
       "    <tr>\n",
       "      <th>6</th>\n",
       "      <td>43</td>\n",
       "      <td>75992</td>\n",
       "      <td>12518.0</td>\n",
       "    </tr>\n",
       "    <tr>\n",
       "      <th>7</th>\n",
       "      <td>30</td>\n",
       "      <td>77404</td>\n",
       "      <td>12591.0</td>\n",
       "    </tr>\n",
       "    <tr>\n",
       "      <th>8</th>\n",
       "      <td>31</td>\n",
       "      <td>76581</td>\n",
       "      <td>12522.0</td>\n",
       "    </tr>\n",
       "    <tr>\n",
       "      <th>9</th>\n",
       "      <td>29</td>\n",
       "      <td>75307</td>\n",
       "      <td>12544.0</td>\n",
       "    </tr>\n",
       "    <tr>\n",
       "      <th>10</th>\n",
       "      <td></td>\n",
       "      <td>NaN</td>\n",
       "      <td>NaN</td>\n",
       "    </tr>\n",
       "    <tr>\n",
       "      <th>11</th>\n",
       "      <td>NaN</td>\n",
       "      <td>NaN</td>\n",
       "      <td>NaN</td>\n",
       "    </tr>\n",
       "    <tr>\n",
       "      <th>12</th>\n",
       "      <td>NaN</td>\n",
       "      <td>NaN</td>\n",
       "      <td>NaN</td>\n",
       "    </tr>\n",
       "    <tr>\n",
       "      <th>13</th>\n",
       "      <td>NaN</td>\n",
       "      <td></td>\n",
       "      <td>NaN</td>\n",
       "    </tr>\n",
       "  </tbody>\n",
       "</table>\n",
       "</div>"
      ],
      "text/plain": [
       "     Np N Ra-226(9uCi)  N Ra-226 (5uCi)\n",
       "0    45          77601          12361.0\n",
       "1    47          74171          12361.0\n",
       "2    37          73842          12518.0\n",
       "3    47          78747          12408.0\n",
       "4    30          77936          12537.0\n",
       "5    27          79565          12561.0\n",
       "6    43          75992          12518.0\n",
       "7    30          77404          12591.0\n",
       "8    31          76581          12522.0\n",
       "9    29          75307          12544.0\n",
       "10                 NaN              NaN\n",
       "11  NaN            NaN              NaN\n",
       "12  NaN            NaN              NaN\n",
       "13  NaN                             NaN"
      ]
     },
     "metadata": {},
     "output_type": "display_data"
    }
   ],
   "source": [
    "data = pd.read_excel(\"So Lieu.xlsx\")\n",
    "display(data)"
   ]
  },
  {
   "cell_type": "code",
   "execution_count": 35,
   "id": "100768c6",
   "metadata": {},
   "outputs": [],
   "source": [
    "Np = data['Np'][0:10]\n",
    "N_ra_9 = data['N Ra-226(9uCi)'][0:10]\n",
    "N_ra_5 = data['N Ra-226 (5uCi)'][0:10]"
   ]
  },
  {
   "cell_type": "code",
   "execution_count": 43,
   "id": "962e4c73",
   "metadata": {},
   "outputs": [],
   "source": [
    "import statistics as stt"
   ]
  },
  {
   "cell_type": "code",
   "execution_count": 44,
   "id": "84497e9d",
   "metadata": {},
   "outputs": [
    {
     "data": {
      "text/plain": [
       "12546"
      ]
     },
     "execution_count": 44,
     "metadata": {},
     "output_type": "execute_result"
    }
   ],
   "source": [
    "er_ra_5 = stt.stdev(N_ra_5)/np.sqrt(len(N_ra_5))\n",
    "er_ra_5\n",
    "int(stt.median(N_ra_5)+er_ra_5)"
   ]
  },
  {
   "cell_type": "code",
   "execution_count": 45,
   "id": "562a4bf9",
   "metadata": {
    "scrolled": true
   },
   "outputs": [
    {
     "data": {
      "text/plain": [
       "[12508, 12509]"
      ]
     },
     "execution_count": 45,
     "metadata": {},
     "output_type": "execute_result"
    }
   ],
   "source": [
    "import random\n",
    "def radomCount():\n",
    "    result = []\n",
    "    i = 1\n",
    "    while i <= 2:\n",
    "        count_random = random.randint(12485, 12550)\n",
    "        result.append(count_random)\n",
    "        i += 1\n",
    "    return result\n",
    "radomCount()\n",
    "    "
   ]
  },
  {
   "cell_type": "code",
   "execution_count": 46,
   "id": "06f0c314",
   "metadata": {},
   "outputs": [
    {
     "data": {
      "text/plain": [
       "<matplotlib.collections.PathCollection at 0x20992dc4f10>"
      ]
     },
     "execution_count": 46,
     "metadata": {},
     "output_type": "execute_result"
    },
    {
     "data": {
      "image/png": "[encoded data removed]",
      "text/plain": [
       "<Figure size 640x480 with 1 Axes>"
      ]
     },
     "metadata": {},
     "output_type": "display_data"
    }
   ],
   "source": [
    "STT = np.linspace(1, len(Np), len(Np))\n",
    "plt.scatter(STT, N_ra_9)\n",
    "plt.scatter(STT, N_ra_5)"
   ]
  },
  {
   "cell_type": "code",
   "execution_count": 49,
   "id": "acaf6571",
   "metadata": {},
   "outputs": [
    {
     "data": {
      "text/plain": [
       "0.007803227974515526"
      ]
     },
     "execution_count": 49,
     "metadata": {},
     "output_type": "execute_result"
    }
   ],
   "source": [
    "er_ra_9 = stt.stdev(N_ra_9)/np.sqrt(len(N_ra_9))\n",
    "er_ra_9/np.mean(N_ra_9)"
   ]
  },
  {
   "cell_type": "code",
   "execution_count": null,
   "id": "4721be07",
   "metadata": {},
   "outputs": [],
   "source": []
  },
  {
   "cell_type": "code",
   "execution_count": null,
   "id": "d736e628",
   "metadata": {},
   "outputs": [],
   "source": []
  }
 ],
 "metadata": {
  "kernelspec": {
   "display_name": "Python 3 (ipykernel)",
   "language": "python",
   "name": "python3"
  },
  "language_info": {
   "codemirror_mode": {
    "name": "ipython",
    "version": 3
   },
   "file_extension": ".py",
   "mimetype": "text/x-python",
   "name": "python",
   "nbconvert_exporter": "python",
   "pygments_lexer": "ipython3",
   "version": "3.9.13"
  }
 },
 "nbformat": 4,
 "nbformat_minor": 5
}
